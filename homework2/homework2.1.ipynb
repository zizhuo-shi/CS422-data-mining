{
 "cells": [
  {
   "cell_type": "markdown",
   "id": "07f88182-88b8-4e0e-9179-262f8815c8bd",
   "metadata": {},
   "source": [
    "problem 1 Iris"
   ]
  },
  {
   "cell_type": "code",
   "execution_count": 2,
   "id": "f5f94e31-f78c-4ef5-8ba7-1b348c8277be",
   "metadata": {},
   "outputs": [],
   "source": [
    "from sklearn.datasets import load_iris\n",
    "import pandas as pd\n",
    "from sklearn.tree import DecisionTreeClassifier, export_text, plot_tree\n",
    "from sklearn.metrics import recall_score,precision_score,classification_report"
   ]
  },
  {
   "cell_type": "code",
   "execution_count": 3,
   "id": "21f8f559-df61-4337-bfdf-24451b71b201",
   "metadata": {},
   "outputs": [],
   "source": [
    "# Load the dataset\n",
    "iris = load_iris()"
   ]
  },
  {
   "cell_type": "code",
   "execution_count": 4,
   "id": "eb88c466-5009-4361-a805-8f8cb3bf2d3c",
   "metadata": {},
   "outputs": [
    {
     "name": "stdout",
     "output_type": "stream",
     "text": [
      "   sepal length (cm)  sepal width (cm)  petal length (cm)  petal width (cm)  \\\n",
      "0                5.1               3.5                1.4               0.2   \n",
      "1                4.9               3.0                1.4               0.2   \n",
      "2                4.7               3.2                1.3               0.2   \n",
      "3                4.6               3.1                1.5               0.2   \n",
      "4                5.0               3.6                1.4               0.2   \n",
      "\n",
      "   target species  \n",
      "0       0  setosa  \n",
      "1       0  setosa  \n",
      "2       0  setosa  \n",
      "3       0  setosa  \n",
      "4       0  setosa  \n"
     ]
    }
   ],
   "source": [
    "# Convert to DataFrame\n",
    "df = pd.DataFrame(data=iris.data, columns=iris.feature_names)\n",
    "df['target'] = iris.target\n",
    "\n",
    "# Optional: Map target to species names for readability\n",
    "df['species'] = df['target'].map(lambda x: iris.target_names[x])\n",
    "\n",
    "print(df.head())"
   ]
  },
  {
   "cell_type": "code",
   "execution_count": 5,
   "id": "9bdafd4a-9031-4a9c-bfa7-40f6abdfd1da",
   "metadata": {},
   "outputs": [
    {
     "name": "stdout",
     "output_type": "stream",
     "text": [
      "y_true:\n",
      "0    0\n",
      "1    0\n",
      "2    0\n",
      "3    0\n",
      "4    0\n",
      "Name: target, dtype: int32\n"
     ]
    }
   ],
   "source": [
    "X = df[iris.feature_names]\n",
    "y_true=df['target']\n",
    "print(\"y_true:\")\n",
    "print(y_true.head())"
   ]
  },
  {
   "cell_type": "code",
   "execution_count": 6,
   "id": "0daa028d-f5dc-42bf-a19a-6befb6712229",
   "metadata": {},
   "outputs": [
    {
     "name": "stdout",
     "output_type": "stream",
     "text": [
      "Max Depth: 1\n",
      "Classification Report:\n",
      "              precision    recall  f1-score     support\n",
      "0              1.000000  1.000000  1.000000   50.000000\n",
      "1              0.500000  1.000000  0.666667   50.000000\n",
      "2              0.000000  0.000000  0.000000   50.000000\n",
      "accuracy       0.666667  0.666667  0.666667    0.666667\n",
      "macro avg      0.500000  0.666667  0.555556  150.000000\n",
      "weighted avg   0.500000  0.666667  0.555556  150.000000\n",
      "\n",
      "==================================================\n",
      "\n",
      "Max Depth: 2\n",
      "Classification Report:\n",
      "              precision  recall  f1-score  support\n",
      "0              1.000000    1.00  1.000000    50.00\n",
      "1              0.907407    0.98  0.942308    50.00\n",
      "2              0.978261    0.90  0.937500    50.00\n",
      "accuracy       0.960000    0.96  0.960000     0.96\n",
      "macro avg      0.961889    0.96  0.959936   150.00\n",
      "weighted avg   0.961889    0.96  0.959936   150.00\n",
      "\n",
      "==================================================\n",
      "\n",
      "Max Depth: 3\n",
      "Classification Report:\n",
      "              precision    recall  f1-score     support\n",
      "0              1.000000  1.000000  1.000000   50.000000\n",
      "1              0.979167  0.940000  0.959184   50.000000\n",
      "2              0.942308  0.980000  0.960784   50.000000\n",
      "accuracy       0.973333  0.973333  0.973333    0.973333\n",
      "macro avg      0.973825  0.973333  0.973323  150.000000\n",
      "weighted avg   0.973825  0.973333  0.973323  150.000000\n",
      "\n",
      "==================================================\n",
      "\n",
      "Max Depth: 4\n",
      "Classification Report:\n",
      "              precision  recall  f1-score  support\n",
      "0              1.000000    1.00  1.000000    50.00\n",
      "1              0.960784    0.98  0.970297    50.00\n",
      "2              0.979592    0.96  0.969697    50.00\n",
      "accuracy       0.980000    0.98  0.980000     0.98\n",
      "macro avg      0.980125    0.98  0.979998   150.00\n",
      "weighted avg   0.980125    0.98  0.979998   150.00\n",
      "\n",
      "==================================================\n",
      "\n",
      "Max Depth: 5\n",
      "Classification Report:\n",
      "              precision  recall  f1-score  support\n",
      "0              1.000000    1.00  1.000000    50.00\n",
      "1              0.960784    0.98  0.970297    50.00\n",
      "2              0.979592    0.96  0.969697    50.00\n",
      "accuracy       0.980000    0.98  0.980000     0.98\n",
      "macro avg      0.980125    0.98  0.979998   150.00\n",
      "weighted avg   0.980125    0.98  0.979998   150.00\n",
      "\n",
      "==================================================\n",
      "\n"
     ]
    }
   ],
   "source": [
    "# Train decision trees with different max_depth values \n",
    "recall_results = {}\n",
    "for depth in range(1, 6):\n",
    "    # Initialize the decision tree classifier\n",
    "    clf = DecisionTreeClassifier(\n",
    "        max_depth=depth,\n",
    "        min_samples_leaf=2,\n",
    "        min_samples_split=5,\n",
    "        random_state=42  # for reproducibility\n",
    "    )\n",
    "    \n",
    "    # Train the model\n",
    "    clf.fit(X, y_true)\n",
    "    \n",
    "    # Make predictions\n",
    "    y_predictions = clf.predict(X)\n",
    "\n",
    "    # Store the classification report\n",
    "    report = classification_report(y_true, y_predictions,output_dict=True, zero_division=0)#avoid warning messages\n",
    "    recall_results[depth] = report\n",
    "\n",
    "# Print results for each depth\n",
    "for depth in recall_results:\n",
    "    print(f\"Max Depth: {depth}\")\n",
    "    print(\"Classification Report:\")\n",
    "    print(pd.DataFrame(recall_results[depth]).transpose())\n",
    "    print(\"\\n\" + \"=\"*50 + \"\\n\")"
   ]
  },
  {
   "cell_type": "code",
   "execution_count": 7,
   "id": "ec74de40-17a9-465b-9c04-9ecdec5ac351",
   "metadata": {},
   "outputs": [
    {
     "name": "stdout",
     "output_type": "stream",
     "text": [
      "Best depth: 4, with Recall: 0.98\n"
     ]
    }
   ],
   "source": [
    "best_depth = max(recall_results, key=lambda k: recall_results[k]['macro avg']['recall'])\n",
    "best_recall = recall_results[best_depth]['macro avg']['recall']\n",
    "print(f\"Best depth: {best_depth}, with Recall: {best_recall:.2f}\")"
   ]
  },
  {
   "cell_type": "code",
   "execution_count": 8,
   "id": "3e0fefcb-d14f-49f5-aa91-5dd761cba743",
   "metadata": {},
   "outputs": [
    {
     "name": "stdout",
     "output_type": "stream",
     "text": [
      "Lowest Precision depth: 1, with Precision: 0.50\n"
     ]
    }
   ],
   "source": [
    "best_depth = min(recall_results, key=lambda k: recall_results[k]['macro avg']['precision'])\n",
    "best_precision = recall_results[best_depth]['macro avg']['precision']\n",
    "print(f\"Lowest Precision depth: {best_depth}, with Precision: {best_precision:.2f}\")"
   ]
  },
  {
   "cell_type": "code",
   "execution_count": 9,
   "id": "29431236-79ff-4413-a12a-60a31f4daa39",
   "metadata": {},
   "outputs": [
    {
     "name": "stdout",
     "output_type": "stream",
     "text": [
      "Best F1 score depth: 4, with F1 score: 0.98\n"
     ]
    }
   ],
   "source": [
    "best_depth = max(recall_results, key=lambda k: recall_results[k]['macro avg']['f1-score'])\n",
    "best_f1score = recall_results[best_depth]['macro avg']['f1-score']\n",
    "print(f\"Best F1 score depth: {best_depth}, with F1 score: {best_f1score:.2f}\")"
   ]
  },
  {
   "cell_type": "markdown",
   "id": "c3fb0dee-b37f-4f3a-838e-1956f3925f57",
   "metadata": {},
   "source": [
    "Problem 2 Breast Cancer Wisconsin"
   ]
  },
  {
   "cell_type": "code",
   "execution_count": 42,
   "id": "b58d6a1c-82bf-4ab4-bae5-cf2f8741f827",
   "metadata": {},
   "outputs": [],
   "source": [
    "import pandas as pd\n",
    "import numpy as np\n",
    "import matplotlib.pyplot as plt\n",
    "from sklearn.tree import DecisionTreeClassifier,plot_tree\n",
    "from sklearn.model_selection import train_test_split"
   ]
  },
  {
   "cell_type": "code",
   "execution_count": 43,
   "id": "809fe066-1c82-4e2c-a29b-920dd1f5d157",
   "metadata": {},
   "outputs": [],
   "source": [
    "column_names = [\n",
    "    'id', 'clump_thickness', 'uniformity_cell_size',\n",
    "    'uniformity_cell_shape', 'marginal_adhesion',\n",
    "    'single_epithelial_cell_size', 'bare_nuclei',\n",
    "    'bland_chromatin', 'normal_nucleoli', 'mitoses', 'class'\n",
    "]"
   ]
  },
  {
   "cell_type": "code",
   "execution_count": 44,
   "id": "c9466fa5-f45d-40e4-a277-7e559339a569",
   "metadata": {},
   "outputs": [],
   "source": [
    "url = 'https://archive.ics.uci.edu/ml/machine-learning-databases/breast-cancer-wisconsin/breast-cancer-wisconsin.data'\n",
    "df = pd.read_csv(url, names=column_names, na_values='?')"
   ]
  },
  {
   "cell_type": "code",
   "execution_count": 45,
   "id": "6bafbd90-3eae-4538-8fe8-64b1f94bb641",
   "metadata": {},
   "outputs": [],
   "source": [
    "# Drop rows with missing values\n",
    "df.dropna(inplace=True)"
   ]
  },
  {
   "cell_type": "code",
   "execution_count": 46,
   "id": "8bc8acff-1dd4-437f-99f9-fc1b9528489b",
   "metadata": {},
   "outputs": [],
   "source": [
    "# Convert 'bare Nuclei' to numeric\n",
    "df['bare_nuclei'] = df['bare_nuclei'].astype(int)\n",
    "# Drop the 'id' column as it is not useful for training\n",
    "data = df.drop(columns=['id'])\n",
    "\n",
    "# Convert 'class' to binary (2 -> 1, 4 -> 0)\n",
    "data['Class'] = data['class'].map({2: 0, 4: 1})"
   ]
  },
  {
   "cell_type": "code",
   "execution_count": 47,
   "id": "620c88ac-b444-4e8f-860d-0fd8e4bc8d35",
   "metadata": {},
   "outputs": [
    {
     "name": "stdout",
     "output_type": "stream",
     "text": [
      "        id  clump_thickness  uniformity_cell_size  uniformity_cell_shape  \\\n",
      "0  1000025                5                     1                      1   \n",
      "1  1002945                5                     4                      4   \n",
      "2  1015425                3                     1                      1   \n",
      "3  1016277                6                     8                      8   \n",
      "4  1017023                4                     1                      1   \n",
      "\n",
      "   marginal_adhesion  single_epithelial_cell_size  bare_nuclei  \\\n",
      "0                  1                            2            1   \n",
      "1                  5                            7           10   \n",
      "2                  1                            2            2   \n",
      "3                  1                            3            4   \n",
      "4                  3                            2            1   \n",
      "\n",
      "   bland_chromatin  normal_nucleoli  mitoses  class  \n",
      "0                3                1        1      2  \n",
      "1                3                2        1      2  \n",
      "2                3                1        1      2  \n",
      "3                3                7        1      2  \n",
      "4                3                1        1      2  \n"
     ]
    }
   ],
   "source": [
    "print(df.head())"
   ]
  },
  {
   "cell_type": "code",
   "execution_count": 48,
   "id": "60f611b5-1c9c-431d-9791-630bcb368e8b",
   "metadata": {},
   "outputs": [
    {
     "data": {
      "text/html": [
       "<style>#sk-container-id-2 {\n",
       "  /* Definition of color scheme common for light and dark mode */\n",
       "  --sklearn-color-text: #000;\n",
       "  --sklearn-color-text-muted: #666;\n",
       "  --sklearn-color-line: gray;\n",
       "  /* Definition of color scheme for unfitted estimators */\n",
       "  --sklearn-color-unfitted-level-0: #fff5e6;\n",
       "  --sklearn-color-unfitted-level-1: #f6e4d2;\n",
       "  --sklearn-color-unfitted-level-2: #ffe0b3;\n",
       "  --sklearn-color-unfitted-level-3: chocolate;\n",
       "  /* Definition of color scheme for fitted estimators */\n",
       "  --sklearn-color-fitted-level-0: #f0f8ff;\n",
       "  --sklearn-color-fitted-level-1: #d4ebff;\n",
       "  --sklearn-color-fitted-level-2: #b3dbfd;\n",
       "  --sklearn-color-fitted-level-3: cornflowerblue;\n",
       "\n",
       "  /* Specific color for light theme */\n",
       "  --sklearn-color-text-on-default-background: var(--sg-text-color, var(--theme-code-foreground, var(--jp-content-font-color1, black)));\n",
       "  --sklearn-color-background: var(--sg-background-color, var(--theme-background, var(--jp-layout-color0, white)));\n",
       "  --sklearn-color-border-box: var(--sg-text-color, var(--theme-code-foreground, var(--jp-content-font-color1, black)));\n",
       "  --sklearn-color-icon: #696969;\n",
       "\n",
       "  @media (prefers-color-scheme: dark) {\n",
       "    /* Redefinition of color scheme for dark theme */\n",
       "    --sklearn-color-text-on-default-background: var(--sg-text-color, var(--theme-code-foreground, var(--jp-content-font-color1, white)));\n",
       "    --sklearn-color-background: var(--sg-background-color, var(--theme-background, var(--jp-layout-color0, #111)));\n",
       "    --sklearn-color-border-box: var(--sg-text-color, var(--theme-code-foreground, var(--jp-content-font-color1, white)));\n",
       "    --sklearn-color-icon: #878787;\n",
       "  }\n",
       "}\n",
       "\n",
       "#sk-container-id-2 {\n",
       "  color: var(--sklearn-color-text);\n",
       "}\n",
       "\n",
       "#sk-container-id-2 pre {\n",
       "  padding: 0;\n",
       "}\n",
       "\n",
       "#sk-container-id-2 input.sk-hidden--visually {\n",
       "  border: 0;\n",
       "  clip: rect(1px 1px 1px 1px);\n",
       "  clip: rect(1px, 1px, 1px, 1px);\n",
       "  height: 1px;\n",
       "  margin: -1px;\n",
       "  overflow: hidden;\n",
       "  padding: 0;\n",
       "  position: absolute;\n",
       "  width: 1px;\n",
       "}\n",
       "\n",
       "#sk-container-id-2 div.sk-dashed-wrapped {\n",
       "  border: 1px dashed var(--sklearn-color-line);\n",
       "  margin: 0 0.4em 0.5em 0.4em;\n",
       "  box-sizing: border-box;\n",
       "  padding-bottom: 0.4em;\n",
       "  background-color: var(--sklearn-color-background);\n",
       "}\n",
       "\n",
       "#sk-container-id-2 div.sk-container {\n",
       "  /* jupyter's `normalize.less` sets `[hidden] { display: none; }`\n",
       "     but bootstrap.min.css set `[hidden] { display: none !important; }`\n",
       "     so we also need the `!important` here to be able to override the\n",
       "     default hidden behavior on the sphinx rendered scikit-learn.org.\n",
       "     See: https://github.com/scikit-learn/scikit-learn/issues/21755 */\n",
       "  display: inline-block !important;\n",
       "  position: relative;\n",
       "}\n",
       "\n",
       "#sk-container-id-2 div.sk-text-repr-fallback {\n",
       "  display: none;\n",
       "}\n",
       "\n",
       "div.sk-parallel-item,\n",
       "div.sk-serial,\n",
       "div.sk-item {\n",
       "  /* draw centered vertical line to link estimators */\n",
       "  background-image: linear-gradient(var(--sklearn-color-text-on-default-background), var(--sklearn-color-text-on-default-background));\n",
       "  background-size: 2px 100%;\n",
       "  background-repeat: no-repeat;\n",
       "  background-position: center center;\n",
       "}\n",
       "\n",
       "/* Parallel-specific style estimator block */\n",
       "\n",
       "#sk-container-id-2 div.sk-parallel-item::after {\n",
       "  content: \"\";\n",
       "  width: 100%;\n",
       "  border-bottom: 2px solid var(--sklearn-color-text-on-default-background);\n",
       "  flex-grow: 1;\n",
       "}\n",
       "\n",
       "#sk-container-id-2 div.sk-parallel {\n",
       "  display: flex;\n",
       "  align-items: stretch;\n",
       "  justify-content: center;\n",
       "  background-color: var(--sklearn-color-background);\n",
       "  position: relative;\n",
       "}\n",
       "\n",
       "#sk-container-id-2 div.sk-parallel-item {\n",
       "  display: flex;\n",
       "  flex-direction: column;\n",
       "}\n",
       "\n",
       "#sk-container-id-2 div.sk-parallel-item:first-child::after {\n",
       "  align-self: flex-end;\n",
       "  width: 50%;\n",
       "}\n",
       "\n",
       "#sk-container-id-2 div.sk-parallel-item:last-child::after {\n",
       "  align-self: flex-start;\n",
       "  width: 50%;\n",
       "}\n",
       "\n",
       "#sk-container-id-2 div.sk-parallel-item:only-child::after {\n",
       "  width: 0;\n",
       "}\n",
       "\n",
       "/* Serial-specific style estimator block */\n",
       "\n",
       "#sk-container-id-2 div.sk-serial {\n",
       "  display: flex;\n",
       "  flex-direction: column;\n",
       "  align-items: center;\n",
       "  background-color: var(--sklearn-color-background);\n",
       "  padding-right: 1em;\n",
       "  padding-left: 1em;\n",
       "}\n",
       "\n",
       "\n",
       "/* Toggleable style: style used for estimator/Pipeline/ColumnTransformer box that is\n",
       "clickable and can be expanded/collapsed.\n",
       "- Pipeline and ColumnTransformer use this feature and define the default style\n",
       "- Estimators will overwrite some part of the style using the `sk-estimator` class\n",
       "*/\n",
       "\n",
       "/* Pipeline and ColumnTransformer style (default) */\n",
       "\n",
       "#sk-container-id-2 div.sk-toggleable {\n",
       "  /* Default theme specific background. It is overwritten whether we have a\n",
       "  specific estimator or a Pipeline/ColumnTransformer */\n",
       "  background-color: var(--sklearn-color-background);\n",
       "}\n",
       "\n",
       "/* Toggleable label */\n",
       "#sk-container-id-2 label.sk-toggleable__label {\n",
       "  cursor: pointer;\n",
       "  display: flex;\n",
       "  width: 100%;\n",
       "  margin-bottom: 0;\n",
       "  padding: 0.5em;\n",
       "  box-sizing: border-box;\n",
       "  text-align: center;\n",
       "  align-items: start;\n",
       "  justify-content: space-between;\n",
       "  gap: 0.5em;\n",
       "}\n",
       "\n",
       "#sk-container-id-2 label.sk-toggleable__label .caption {\n",
       "  font-size: 0.6rem;\n",
       "  font-weight: lighter;\n",
       "  color: var(--sklearn-color-text-muted);\n",
       "}\n",
       "\n",
       "#sk-container-id-2 label.sk-toggleable__label-arrow:before {\n",
       "  /* Arrow on the left of the label */\n",
       "  content: \"▸\";\n",
       "  float: left;\n",
       "  margin-right: 0.25em;\n",
       "  color: var(--sklearn-color-icon);\n",
       "}\n",
       "\n",
       "#sk-container-id-2 label.sk-toggleable__label-arrow:hover:before {\n",
       "  color: var(--sklearn-color-text);\n",
       "}\n",
       "\n",
       "/* Toggleable content - dropdown */\n",
       "\n",
       "#sk-container-id-2 div.sk-toggleable__content {\n",
       "  max-height: 0;\n",
       "  max-width: 0;\n",
       "  overflow: hidden;\n",
       "  text-align: left;\n",
       "  /* unfitted */\n",
       "  background-color: var(--sklearn-color-unfitted-level-0);\n",
       "}\n",
       "\n",
       "#sk-container-id-2 div.sk-toggleable__content.fitted {\n",
       "  /* fitted */\n",
       "  background-color: var(--sklearn-color-fitted-level-0);\n",
       "}\n",
       "\n",
       "#sk-container-id-2 div.sk-toggleable__content pre {\n",
       "  margin: 0.2em;\n",
       "  border-radius: 0.25em;\n",
       "  color: var(--sklearn-color-text);\n",
       "  /* unfitted */\n",
       "  background-color: var(--sklearn-color-unfitted-level-0);\n",
       "}\n",
       "\n",
       "#sk-container-id-2 div.sk-toggleable__content.fitted pre {\n",
       "  /* unfitted */\n",
       "  background-color: var(--sklearn-color-fitted-level-0);\n",
       "}\n",
       "\n",
       "#sk-container-id-2 input.sk-toggleable__control:checked~div.sk-toggleable__content {\n",
       "  /* Expand drop-down */\n",
       "  max-height: 200px;\n",
       "  max-width: 100%;\n",
       "  overflow: auto;\n",
       "}\n",
       "\n",
       "#sk-container-id-2 input.sk-toggleable__control:checked~label.sk-toggleable__label-arrow:before {\n",
       "  content: \"▾\";\n",
       "}\n",
       "\n",
       "/* Pipeline/ColumnTransformer-specific style */\n",
       "\n",
       "#sk-container-id-2 div.sk-label input.sk-toggleable__control:checked~label.sk-toggleable__label {\n",
       "  color: var(--sklearn-color-text);\n",
       "  background-color: var(--sklearn-color-unfitted-level-2);\n",
       "}\n",
       "\n",
       "#sk-container-id-2 div.sk-label.fitted input.sk-toggleable__control:checked~label.sk-toggleable__label {\n",
       "  background-color: var(--sklearn-color-fitted-level-2);\n",
       "}\n",
       "\n",
       "/* Estimator-specific style */\n",
       "\n",
       "/* Colorize estimator box */\n",
       "#sk-container-id-2 div.sk-estimator input.sk-toggleable__control:checked~label.sk-toggleable__label {\n",
       "  /* unfitted */\n",
       "  background-color: var(--sklearn-color-unfitted-level-2);\n",
       "}\n",
       "\n",
       "#sk-container-id-2 div.sk-estimator.fitted input.sk-toggleable__control:checked~label.sk-toggleable__label {\n",
       "  /* fitted */\n",
       "  background-color: var(--sklearn-color-fitted-level-2);\n",
       "}\n",
       "\n",
       "#sk-container-id-2 div.sk-label label.sk-toggleable__label,\n",
       "#sk-container-id-2 div.sk-label label {\n",
       "  /* The background is the default theme color */\n",
       "  color: var(--sklearn-color-text-on-default-background);\n",
       "}\n",
       "\n",
       "/* On hover, darken the color of the background */\n",
       "#sk-container-id-2 div.sk-label:hover label.sk-toggleable__label {\n",
       "  color: var(--sklearn-color-text);\n",
       "  background-color: var(--sklearn-color-unfitted-level-2);\n",
       "}\n",
       "\n",
       "/* Label box, darken color on hover, fitted */\n",
       "#sk-container-id-2 div.sk-label.fitted:hover label.sk-toggleable__label.fitted {\n",
       "  color: var(--sklearn-color-text);\n",
       "  background-color: var(--sklearn-color-fitted-level-2);\n",
       "}\n",
       "\n",
       "/* Estimator label */\n",
       "\n",
       "#sk-container-id-2 div.sk-label label {\n",
       "  font-family: monospace;\n",
       "  font-weight: bold;\n",
       "  display: inline-block;\n",
       "  line-height: 1.2em;\n",
       "}\n",
       "\n",
       "#sk-container-id-2 div.sk-label-container {\n",
       "  text-align: center;\n",
       "}\n",
       "\n",
       "/* Estimator-specific */\n",
       "#sk-container-id-2 div.sk-estimator {\n",
       "  font-family: monospace;\n",
       "  border: 1px dotted var(--sklearn-color-border-box);\n",
       "  border-radius: 0.25em;\n",
       "  box-sizing: border-box;\n",
       "  margin-bottom: 0.5em;\n",
       "  /* unfitted */\n",
       "  background-color: var(--sklearn-color-unfitted-level-0);\n",
       "}\n",
       "\n",
       "#sk-container-id-2 div.sk-estimator.fitted {\n",
       "  /* fitted */\n",
       "  background-color: var(--sklearn-color-fitted-level-0);\n",
       "}\n",
       "\n",
       "/* on hover */\n",
       "#sk-container-id-2 div.sk-estimator:hover {\n",
       "  /* unfitted */\n",
       "  background-color: var(--sklearn-color-unfitted-level-2);\n",
       "}\n",
       "\n",
       "#sk-container-id-2 div.sk-estimator.fitted:hover {\n",
       "  /* fitted */\n",
       "  background-color: var(--sklearn-color-fitted-level-2);\n",
       "}\n",
       "\n",
       "/* Specification for estimator info (e.g. \"i\" and \"?\") */\n",
       "\n",
       "/* Common style for \"i\" and \"?\" */\n",
       "\n",
       ".sk-estimator-doc-link,\n",
       "a:link.sk-estimator-doc-link,\n",
       "a:visited.sk-estimator-doc-link {\n",
       "  float: right;\n",
       "  font-size: smaller;\n",
       "  line-height: 1em;\n",
       "  font-family: monospace;\n",
       "  background-color: var(--sklearn-color-background);\n",
       "  border-radius: 1em;\n",
       "  height: 1em;\n",
       "  width: 1em;\n",
       "  text-decoration: none !important;\n",
       "  margin-left: 0.5em;\n",
       "  text-align: center;\n",
       "  /* unfitted */\n",
       "  border: var(--sklearn-color-unfitted-level-1) 1pt solid;\n",
       "  color: var(--sklearn-color-unfitted-level-1);\n",
       "}\n",
       "\n",
       ".sk-estimator-doc-link.fitted,\n",
       "a:link.sk-estimator-doc-link.fitted,\n",
       "a:visited.sk-estimator-doc-link.fitted {\n",
       "  /* fitted */\n",
       "  border: var(--sklearn-color-fitted-level-1) 1pt solid;\n",
       "  color: var(--sklearn-color-fitted-level-1);\n",
       "}\n",
       "\n",
       "/* On hover */\n",
       "div.sk-estimator:hover .sk-estimator-doc-link:hover,\n",
       ".sk-estimator-doc-link:hover,\n",
       "div.sk-label-container:hover .sk-estimator-doc-link:hover,\n",
       ".sk-estimator-doc-link:hover {\n",
       "  /* unfitted */\n",
       "  background-color: var(--sklearn-color-unfitted-level-3);\n",
       "  color: var(--sklearn-color-background);\n",
       "  text-decoration: none;\n",
       "}\n",
       "\n",
       "div.sk-estimator.fitted:hover .sk-estimator-doc-link.fitted:hover,\n",
       ".sk-estimator-doc-link.fitted:hover,\n",
       "div.sk-label-container:hover .sk-estimator-doc-link.fitted:hover,\n",
       ".sk-estimator-doc-link.fitted:hover {\n",
       "  /* fitted */\n",
       "  background-color: var(--sklearn-color-fitted-level-3);\n",
       "  color: var(--sklearn-color-background);\n",
       "  text-decoration: none;\n",
       "}\n",
       "\n",
       "/* Span, style for the box shown on hovering the info icon */\n",
       ".sk-estimator-doc-link span {\n",
       "  display: none;\n",
       "  z-index: 9999;\n",
       "  position: relative;\n",
       "  font-weight: normal;\n",
       "  right: .2ex;\n",
       "  padding: .5ex;\n",
       "  margin: .5ex;\n",
       "  width: min-content;\n",
       "  min-width: 20ex;\n",
       "  max-width: 50ex;\n",
       "  color: var(--sklearn-color-text);\n",
       "  box-shadow: 2pt 2pt 4pt #999;\n",
       "  /* unfitted */\n",
       "  background: var(--sklearn-color-unfitted-level-0);\n",
       "  border: .5pt solid var(--sklearn-color-unfitted-level-3);\n",
       "}\n",
       "\n",
       ".sk-estimator-doc-link.fitted span {\n",
       "  /* fitted */\n",
       "  background: var(--sklearn-color-fitted-level-0);\n",
       "  border: var(--sklearn-color-fitted-level-3);\n",
       "}\n",
       "\n",
       ".sk-estimator-doc-link:hover span {\n",
       "  display: block;\n",
       "}\n",
       "\n",
       "/* \"?\"-specific style due to the `<a>` HTML tag */\n",
       "\n",
       "#sk-container-id-2 a.estimator_doc_link {\n",
       "  float: right;\n",
       "  font-size: 1rem;\n",
       "  line-height: 1em;\n",
       "  font-family: monospace;\n",
       "  background-color: var(--sklearn-color-background);\n",
       "  border-radius: 1rem;\n",
       "  height: 1rem;\n",
       "  width: 1rem;\n",
       "  text-decoration: none;\n",
       "  /* unfitted */\n",
       "  color: var(--sklearn-color-unfitted-level-1);\n",
       "  border: var(--sklearn-color-unfitted-level-1) 1pt solid;\n",
       "}\n",
       "\n",
       "#sk-container-id-2 a.estimator_doc_link.fitted {\n",
       "  /* fitted */\n",
       "  border: var(--sklearn-color-fitted-level-1) 1pt solid;\n",
       "  color: var(--sklearn-color-fitted-level-1);\n",
       "}\n",
       "\n",
       "/* On hover */\n",
       "#sk-container-id-2 a.estimator_doc_link:hover {\n",
       "  /* unfitted */\n",
       "  background-color: var(--sklearn-color-unfitted-level-3);\n",
       "  color: var(--sklearn-color-background);\n",
       "  text-decoration: none;\n",
       "}\n",
       "\n",
       "#sk-container-id-2 a.estimator_doc_link.fitted:hover {\n",
       "  /* fitted */\n",
       "  background-color: var(--sklearn-color-fitted-level-3);\n",
       "}\n",
       "</style><div id=\"sk-container-id-2\" class=\"sk-top-container\"><div class=\"sk-text-repr-fallback\"><pre>DecisionTreeClassifier(max_depth=2, min_samples_leaf=2, min_samples_split=5)</pre><b>In a Jupyter environment, please rerun this cell to show the HTML representation or trust the notebook. <br />On GitHub, the HTML representation is unable to render, please try loading this page with nbviewer.org.</b></div><div class=\"sk-container\" hidden><div class=\"sk-item\"><div class=\"sk-estimator fitted sk-toggleable\"><input class=\"sk-toggleable__control sk-hidden--visually\" id=\"sk-estimator-id-2\" type=\"checkbox\" checked><label for=\"sk-estimator-id-2\" class=\"sk-toggleable__label fitted sk-toggleable__label-arrow\"><div><div>DecisionTreeClassifier</div></div><div><a class=\"sk-estimator-doc-link fitted\" rel=\"noreferrer\" target=\"_blank\" href=\"https://scikit-learn.org/1.6/modules/generated/sklearn.tree.DecisionTreeClassifier.html\">?<span>Documentation for DecisionTreeClassifier</span></a><span class=\"sk-estimator-doc-link fitted\">i<span>Fitted</span></span></div></label><div class=\"sk-toggleable__content fitted\"><pre>DecisionTreeClassifier(max_depth=2, min_samples_leaf=2, min_samples_split=5)</pre></div> </div></div></div></div>"
      ],
      "text/plain": [
       "DecisionTreeClassifier(max_depth=2, min_samples_leaf=2, min_samples_split=5)"
      ]
     },
     "execution_count": 48,
     "metadata": {},
     "output_type": "execute_result"
    }
   ],
   "source": [
    "# Split the data into features and target\n",
    "X = data.drop(columns=['class'])\n",
    "y = data['class']\n",
    "# Split the data into training and testing sets\n",
    "X_train, X_test, y_train, y_test = train_test_split(X, y, test_size=0.2, random_state=42)\n",
    "\n",
    "# Train the decision tree\n",
    "clf = DecisionTreeClassifier(\n",
    "    min_samples_leaf=2,# Minimum 2 instances in leaves\n",
    "    min_samples_split=5,# No splits of subsets \n",
    "    max_depth=2,  # Maximum tree depth of 2\n",
    "    criterion='gini'# Gini criterion\n",
    ")\n",
    "clf.fit(X_train, y_train)"
   ]
  },
  {
   "cell_type": "code",
   "execution_count": 49,
   "id": "cfeeac31-5977-4416-8652-ca0ccfff7e1f",
   "metadata": {},
   "outputs": [
    {
     "name": "stdout",
     "output_type": "stream",
     "text": [
      "Gini before split: 0.44321673442552567\n"
     ]
    }
   ],
   "source": [
    "# Calculate Gini index for the entire dataset\n",
    "def gini_index(y): # 1−∑(pi)^2\n",
    "    p = y.value_counts(normalize=True)\n",
    "    return 1 - np.sum(np.square(p))\n",
    "\n",
    "# Calculate metrics for the entire dataset\n",
    "gini_before_split = gini_index(y_train)\n",
    "print(f\"Gini before split: {gini_before_split}\")"
   ]
  },
  {
   "cell_type": "code",
   "execution_count": 50,
   "id": "f1cd616b-e05d-4a52-8aa5-ab8cdc128318",
   "metadata": {},
   "outputs": [
    {
     "name": "stdout",
     "output_type": "stream",
     "text": [
      "Entropy before split: 0.9164534336173732\n"
     ]
    }
   ],
   "source": [
    "# Calculate Entropy for the entire dataset\n",
    "def entropy(y): #−∑pi*log2*pi*\n",
    "    p = y.value_counts(normalize=True)\n",
    "    return -np.sum([p_i * np.log2(p_i) for p_i in p])\n",
    "\n",
    "entropy_before_split = entropy(y_train)\n",
    "print(f\"Entropy before split: {entropy_before_split}\")"
   ]
  },
  {
   "cell_type": "code",
   "execution_count": 51,
   "id": "e68451ec-05cc-45ca-9515-7c9d2fc0137b",
   "metadata": {},
   "outputs": [
    {
     "name": "stdout",
     "output_type": "stream",
     "text": [
      "Misclassification Error before split: 0.33150183150183155\n"
     ]
    }
   ],
   "source": [
    "# Calculate Misclassification Error for the entire dataset\n",
    "def misclassification_error(y):# 1−max(pi)\n",
    "    p = y.value_counts(normalize=True)\n",
    "    return 1 - np.max(p)\n",
    "\n",
    "misclassification_error_before_split = misclassification_error(y_train)\n",
    "print(f\"Misclassification Error before split: {misclassification_error_before_split}\")"
   ]
  },
  {
   "cell_type": "code",
   "execution_count": 53,
   "id": "cb88c092-e3e4-4301-88d2-b57fa76743bb",
   "metadata": {},
   "outputs": [],
   "source": [
    "# Get the tree structure\n",
    "n_nodes = clf.tree_.node_count\n",
    "children_left = clf.tree_.children_left\n",
    "children_right = clf.tree_.children_right\n",
    "feature = clf.tree_.feature\n",
    "threshold = clf.tree_.threshold\n",
    "\n",
    "# Get the first split\n",
    "first_split_feature = feature[0]#gives the index of the feature used for the first split.\n",
    "first_split_threshold = threshold[0]#gives the threshold value used for the first split."
   ]
  },
  {
   "cell_type": "code",
   "execution_count": 57,
   "id": "e1d80fe6-8f93-4c85-9e53-8f4b5fdfc3bd",
   "metadata": {},
   "outputs": [],
   "source": [
    "# Split the data based on the first split\n",
    "left_split = X_train[X_train.iloc[:, first_split_feature] <= first_split_threshold]\n",
    "right_split = X_train[X_train.iloc[:, first_split_feature] > first_split_threshold]\n",
    "\n",
    "# Calculate Gini index for the subsets\n",
    "gini_left = gini_index(y_train[left_split.index])\n",
    "gini_right = gini_index(y_train[right_split.index])\n",
    "\n",
    "# Calculate Entropy for each subset\n",
    "entropy_left = entropy(y_train[left_split.index])\n",
    "entropy_right = entropy(y_train[right_split.index])\n",
    "\n",
    "# Calculate Misclassification Error for each subset\n",
    "misclassification_error_left = misclassification_error(y_train[left_split.index])\n",
    "misclassification_error_right= misclassification_error(y_train[right_split.index])"
   ]
  },
  {
   "cell_type": "code",
   "execution_count": 59,
   "id": "e89b8229-d17c-46b4-8915-50131f0b1554",
   "metadata": {},
   "outputs": [
    {
     "name": "stdout",
     "output_type": "stream",
     "text": [
      "Gini after split: 0.0\n",
      "Entropy after split: -0.0\n",
      "Misclassification Error after split: 0.0\n"
     ]
    }
   ],
   "source": [
    "# Calculate the weighted average of the metrics\n",
    "weight_left = len(y_train[left_split.index]) / len(y_train)\n",
    "weight_right = len(y_train[right_split.index]) / len(y_train)\n",
    "\n",
    "gini_after_split = weight_left * gini_left + weight_right * gini_right\n",
    "print(f\"Gini after split: {gini_after_split}\")         \n",
    "                \n",
    "entropy_after_split = weight_left * entropy_left + weight_right * entropy_right\n",
    "print(f\"Entropy after split: {entropy_after_split}\")\n",
    "                   \n",
    "misclassification_error_after_split = weight_left* misclassification_error_left + weight_right * misclassification_error_right\n",
    "print(f\"Misclassification Error after split: {misclassification_error_after_split}\")"
   ]
  },
  {
   "cell_type": "code",
   "execution_count": 60,
   "id": "a3e4f191-d7bd-46c2-a697-d39bd868bc3c",
   "metadata": {},
   "outputs": [
    {
     "name": "stdout",
     "output_type": "stream",
     "text": [
      "Information Gain for the first split: 0.44321673442552567\n"
     ]
    }
   ],
   "source": [
    "# Calculate Information Gain\n",
    "information_gain = gini_before_split - (len(left_split) / len(X_train)) * gini_left - (len(right_split) / len(X_train)) * gini_right\n",
    "\n",
    "print(f\"Information Gain for the first split: {information_gain}\")"
   ]
  },
  {
   "cell_type": "code",
   "execution_count": 62,
   "id": "96b779cf-cc77-4369-8c50-cd24ce989727",
   "metadata": {},
   "outputs": [
    {
     "name": "stdout",
     "output_type": "stream",
     "text": [
      "The feature selected for the first split is: Class\n",
      "The decision boundary value for the first split is: 0.5\n"
     ]
    }
   ],
   "source": [
    "# Map feature index to feature name\n",
    "first_split_feature_name = X.columns[first_split_feature]\n",
    "\n",
    "print(f\"The feature selected for the first split is: {first_split_feature_name}\")\n",
    "print(f\"The decision boundary value for the first split is: {first_split_threshold}\")"
   ]
  },
  {
   "cell_type": "markdown",
   "id": "f4da2cab-c030-4fa3-a706-0b15eac51b87",
   "metadata": {},
   "source": [
    "Problem 3 Breast Cancer Wisconsin"
   ]
  },
  {
   "cell_type": "code",
   "execution_count": 23,
   "id": "8a5d1c9c-83ad-4818-a328-c36d43c2dda2",
   "metadata": {},
   "outputs": [],
   "source": [
    "import pandas as pd\n",
    "import numpy as np\n",
    "from sklearn.decomposition import PCA\n",
    "from sklearn.tree import DecisionTreeClassifier,plot_tree\n",
    "from sklearn.metrics import confusion_matrix, f1_score, precision_score, recall_score\n",
    "from sklearn.model_selection import train_test_split\n",
    "from sklearn.preprocessing import StandardScaler"
   ]
  },
  {
   "cell_type": "code",
   "execution_count": 69,
   "id": "a175fcab-3db6-451b-9f4a-8f1ae1b9ef22",
   "metadata": {},
   "outputs": [],
   "source": [
    "# Define column names for the dataset\n",
    "column_names = [\n",
    "    'id', 'Diagnosis', 'Radius Mean', 'Texture Mean', 'Perimeter Mean',\n",
    "    'Area Mean', 'Smoothness Mean', 'Compactness Mean', 'Concavity Mean', 'Concave points Mean',\n",
    "    'Symmetry Mean', 'Fractal Dimension Mean', 'Radius SE', 'Texture SE', 'Perimeter SE',\n",
    "    'Area SE', 'Smoothness SE', 'Compactness SE', 'Concavity SE', 'Concave points SE',\n",
    "    'Symmetry SE', 'Fractal Dimension SE', 'Radius Worst', 'Texture Worst', 'Perimeter Worst',\n",
    "    'Area Worst', 'Smoothness Worst', 'Compactness Worst', 'Concavity Worst', 'Concave points Worst',\n",
    "    'Symmetry Worst', 'Fractal Dimension Worst'\n",
    "]\n"
   ]
  },
  {
   "cell_type": "code",
   "execution_count": 70,
   "id": "f9e2cf64-5a19-407c-9c5d-fdad592efdf2",
   "metadata": {},
   "outputs": [],
   "source": [
    "# Load the dataset from the UCI Machine Learning Repository\n",
    "url = 'https://archive.ics.uci.edu/ml/machine-learning-databases/breast-cancer-wisconsin/wdbc.data'\n",
    "data = pd.read_csv(url, header=None, names=column_names)\n"
   ]
  },
  {
   "cell_type": "code",
   "execution_count": 71,
   "id": "a4388905-2105-44e3-b6a6-fe0183bb4b08",
   "metadata": {},
   "outputs": [
    {
     "name": "stdout",
     "output_type": "stream",
     "text": [
      "         id Diagnosis  Radius Mean  Texture Mean  Perimeter Mean  Area Mean  \\\n",
      "0    842302         M        17.99         10.38          122.80     1001.0   \n",
      "1    842517         M        20.57         17.77          132.90     1326.0   \n",
      "2  84300903         M        19.69         21.25          130.00     1203.0   \n",
      "3  84348301         M        11.42         20.38           77.58      386.1   \n",
      "4  84358402         M        20.29         14.34          135.10     1297.0   \n",
      "\n",
      "   Smoothness Mean  Compactness Mean  Concavity Mean  Concave points Mean  \\\n",
      "0          0.11840           0.27760          0.3001              0.14710   \n",
      "1          0.08474           0.07864          0.0869              0.07017   \n",
      "2          0.10960           0.15990          0.1974              0.12790   \n",
      "3          0.14250           0.28390          0.2414              0.10520   \n",
      "4          0.10030           0.13280          0.1980              0.10430   \n",
      "\n",
      "   ...  Radius Worst  Texture Worst  Perimeter Worst  Area Worst  \\\n",
      "0  ...         25.38          17.33           184.60      2019.0   \n",
      "1  ...         24.99          23.41           158.80      1956.0   \n",
      "2  ...         23.57          25.53           152.50      1709.0   \n",
      "3  ...         14.91          26.50            98.87       567.7   \n",
      "4  ...         22.54          16.67           152.20      1575.0   \n",
      "\n",
      "   Smoothness Worst  Compactness Worst  Concavity Worst  Concave points Worst  \\\n",
      "0            0.1622             0.6656           0.7119                0.2654   \n",
      "1            0.1238             0.1866           0.2416                0.1860   \n",
      "2            0.1444             0.4245           0.4504                0.2430   \n",
      "3            0.2098             0.8663           0.6869                0.2575   \n",
      "4            0.1374             0.2050           0.4000                0.1625   \n",
      "\n",
      "   Symmetry Worst  Fractal Dimension Worst  \n",
      "0          0.4601                  0.11890  \n",
      "1          0.2750                  0.08902  \n",
      "2          0.3613                  0.08758  \n",
      "3          0.6638                  0.17300  \n",
      "4          0.2364                  0.07678  \n",
      "\n",
      "[5 rows x 32 columns]\n"
     ]
    }
   ],
   "source": [
    "# Display the first few rows of the dataset to inspect it\n",
    "print(data.head())"
   ]
  },
  {
   "cell_type": "code",
   "execution_count": 72,
   "id": "ac82af0c-9b61-4155-a822-63be3776d857",
   "metadata": {},
   "outputs": [],
   "source": [
    "# Drop the 'id' column as it is not useful for training\n",
    "data = data.drop(columns=['id'])\n",
    "\n",
    "# Convert 'Diagnosis' to binary values (M -> 1, B -> 0)\n",
    "data['Diagnosis'] = data['Diagnosis'].map({'M': 1, 'B': 0})"
   ]
  },
  {
   "cell_type": "code",
   "execution_count": 73,
   "id": "6681cb03-351d-4632-a6d1-7105f5d9ed07",
   "metadata": {},
   "outputs": [],
   "source": [
    "# Split the data into features and target\n",
    "X = data.drop(columns=['Diagnosis'])\n",
    "y = data['Diagnosis']\n",
    "\n",
    "# Split the data into training and testing sets\n",
    "X_train, X_test, y_train, y_test = train_test_split(X, y, test_size=0.2, random_state=42)\n",
    "\n",
    "# Standardize the features\n",
    "scaler = StandardScaler()\n",
    "X_train_scaled = scaler.fit_transform(X_train)\n",
    "X_test_scaled = scaler.transform(X_test)"
   ]
  },
  {
   "cell_type": "code",
   "execution_count": 74,
   "id": "c64be4bf-648d-4a03-a835-5b732f5ea490",
   "metadata": {},
   "outputs": [],
   "source": [
    "# Perform PCA to extract the first principal component\n",
    "pca = PCA(n_components=1)\n",
    "X_train_pca = pca.fit_transform(X_train_scaled)\n",
    "X_test_pca = pca.transform(X_test_scaled)"
   ]
  },
  {
   "cell_type": "code",
   "execution_count": 75,
   "id": "a071ca42-ff22-4a1d-9df2-a4dfbe8397e8",
   "metadata": {},
   "outputs": [
    {
     "name": "stdout",
     "output_type": "stream",
     "text": [
      "F1 Score (PCA-based model): 0.9523809523809523\n",
      "Precision (PCA-based model): 0.975609756097561\n",
      "Recall (PCA-based model): 0.9302325581395349\n"
     ]
    }
   ],
   "source": [
    "# Train the decision tree using the first principal component\n",
    "clf_pca = DecisionTreeClassifier(\n",
    "    min_samples_leaf=2, \n",
    "    min_samples_split=5, \n",
    "    max_depth=2, \n",
    "    criterion='gini'\n",
    ")\n",
    "\n",
    "clf_pca.fit(X_train_pca, y_train)\n",
    "\n",
    "# Predict on the test set\n",
    "y_pred_pca = clf_pca.predict(X_test_pca)\n",
    "\n",
    "# Calculate F1 score, Precision, and Recall\n",
    "f1_pca = f1_score(y_test, y_pred_pca)\n",
    "print(f\"F1 Score (PCA-based model): {f1_pca}\")\n",
    "\n",
    "precision_pca = precision_score(y_test, y_pred_pca)\n",
    "print(f\"Precision (PCA-based model): {precision_pca}\")\n",
    "\n",
    "recall_pca = recall_score(y_test, y_pred_pca)\n",
    "print(f\"Recall (PCA-based model): {recall_pca}\")"
   ]
  },
  {
   "cell_type": "code",
   "execution_count": 31,
   "id": "4e35ea3b-2c60-47b4-9c2b-2f243d8c2779",
   "metadata": {},
   "outputs": [
    {
     "name": "stdout",
     "output_type": "stream",
     "text": [
      "F1 Score (Original model): 0.9024390243902439\n",
      "Precision (Original model): 0.9487179487179487\n",
      "Recall (Original model): 0.8604651162790697\n"
     ]
    }
   ],
   "source": [
    "# Train the decision tree using the original data\n",
    "clf_original = DecisionTreeClassifier(\n",
    "    min_samples_leaf=2, \n",
    "    min_samples_split=5,\n",
    "    max_depth=2, \n",
    "    criterion='gini'\n",
    ")\n",
    "\n",
    "clf_original.fit(X_train_scaled, y_train)\n",
    "\n",
    "# Predict on the test set\n",
    "y_pred_original = clf_original.predict(X_test_scaled)\n",
    "\n",
    "# Calculate F1 score, Precision, and Recall\n",
    "f1_original = f1_score(y_test, y_pred_original)\n",
    "print(f\"F1 Score (Original model): {f1_original}\")\n",
    "\n",
    "precision_original = precision_score(y_test, y_pred_original)\n",
    "print(f\"Precision (Original model): {precision_original}\")\n",
    "\n",
    "recall_original = recall_score(y_test, y_pred_original)\n",
    "print(f\"Recall (Original model): {recall_original}\")"
   ]
  },
  {
   "cell_type": "code",
   "execution_count": 32,
   "id": "a668e320-8d44-43c2-a438-45f506cc3c67",
   "metadata": {},
   "outputs": [
    {
     "name": "stdout",
     "output_type": "stream",
     "text": [
      "Comparison of Performance Metrics:\n",
      "F1 Score (PCA-based model): 0.9524 vs Original model: 0.9024\n",
      "Precision (PCA-based model): 0.9756 vs Original model: 0.9487\n",
      "Recall (PCA-based model): 0.9302 vs Original model: 0.8605\n"
     ]
    }
   ],
   "source": [
    "print(\"Comparison of Performance Metrics:\")\n",
    "print(f\"F1 Score (PCA-based model): {f1_pca:.4f} vs Original model: {f1_original:.4f}\")\n",
    "print(f\"Precision (PCA-based model): {precision_pca:.4f} vs Original model: {precision_original:.4f}\")\n",
    "print(f\"Recall (PCA-based model): {recall_pca:.4f} vs Original model: {recall_original:.4f}\")"
   ]
  },
  {
   "cell_type": "code",
   "execution_count": 33,
   "id": "098401df-7314-40c4-bfed-cc77d0dc19d1",
   "metadata": {},
   "outputs": [],
   "source": [
    "# Perform PCA to extract the first two principal components\n",
    "pca = PCA(n_components=2)\n",
    "X_train_pca = pca.fit_transform(X_train_scaled)\n",
    "X_test_pca = pca.transform(X_test_scaled)"
   ]
  },
  {
   "cell_type": "code",
   "execution_count": 34,
   "id": "68ea084d-3679-42e3-a092-5a0ab783346b",
   "metadata": {},
   "outputs": [],
   "source": [
    "# Train the decision tree using the first two principal components\n",
    "clf_pca = DecisionTreeClassifier(min_samples_leaf=2, min_samples_split=5, max_depth=2, criterion='gini')\n",
    "clf_pca.fit(X_train_pca, y_train)\n",
    "\n",
    "# Predict on the test set\n",
    "y_pred_pca = clf_pca.predict(X_test_pca)\n",
    "\n",
    "# Calculate the Confusion Matrix\n",
    "cm_pca = confusion_matrix(y_test, y_pred_pca)"
   ]
  },
  {
   "cell_type": "code",
   "execution_count": 35,
   "id": "9da1f84c-33e4-4973-a661-26493cc71fdd",
   "metadata": {},
   "outputs": [
    {
     "name": "stdout",
     "output_type": "stream",
     "text": [
      "False Positives (FP): 1\n",
      "True Positives (TP): 38\n",
      "False Positive Rate (FPR): 0.014084507042253521\n",
      "True Positive Rate (TPR): 0.8837209302325582\n"
     ]
    }
   ],
   "source": [
    "# Extract FP, TP, FN, TN from the Confusion Matrix\n",
    "FP = cm_pca[0, 1]\n",
    "TP = cm_pca[1, 1]\n",
    "FN = cm_pca[1, 0]\n",
    "TN = cm_pca[0, 0]\n",
    "\n",
    "# Calculate FPR and TPR\n",
    "FPR = FP / (FP + TN)\n",
    "TPR = TP / (TP + FN)\n",
    "\n",
    "print(f\"False Positives (FP): {FP}\")\n",
    "print(f\"True Positives (TP): {TP}\")\n",
    "print(f\"False Positive Rate (FPR): {FPR}\")\n",
    "print(f\"True Positive Rate (TPR): {TPR}\")"
   ]
  },
  {
   "cell_type": "code",
   "execution_count": 76,
   "id": "ade43fc0-7663-49f8-95d3-2cebae81b8dc",
   "metadata": {},
   "outputs": [
    {
     "name": "stdout",
     "output_type": "stream",
     "text": [
      "False Positives (FP) - Original model: 2\n",
      "True Positives (TP) - Original model: 37\n",
      "False Positive Rate (FPR) - Original model: 0.028169014084507043\n",
      "True Positive Rate (TPR) - Original model: 0.8604651162790697\n"
     ]
    }
   ],
   "source": [
    "# Train the decision tree using the original data\n",
    "clf_original = DecisionTreeClassifier(min_samples_leaf=2, min_samples_split=5, max_depth=2, criterion='gini')\n",
    "clf_original.fit(X_train_scaled, y_train)\n",
    "\n",
    "# Predict on the test set\n",
    "y_pred_original = clf_original.predict(X_test_scaled)\n",
    "\n",
    "# Calculate the Confusion Matrix for the original model\n",
    "cm_original = confusion_matrix(y_test, y_pred_original)\n",
    "\n",
    "# Extract FP, TP, FN, TN from the Confusion Matrix\n",
    "FP_original = cm_original[0, 1]\n",
    "TP_original = cm_original[1, 1]\n",
    "FN_original = cm_original[1, 0]\n",
    "TN_original = cm_original[0, 0]\n",
    "\n",
    "# Calculate FPR and TPR for the original model\n",
    "FPR_original = FP_original / (FP_original + TN_original)\n",
    "TPR_original = TP_original / (TP_original + FN_original)\n",
    "\n",
    "print(f\"False Positives (FP) - Original model: {FP_original}\")\n",
    "print(f\"True Positives (TP) - Original model: {TP_original}\")\n",
    "print(f\"False Positive Rate (FPR) - Original model: {FPR_original}\")\n",
    "print(f\"True Positive Rate (TPR) - Original model: {TPR_original}\")"
   ]
  },
  {
   "cell_type": "code",
   "execution_count": null,
   "id": "47dbddcc-fc54-442d-bc7b-b7a2a69207aa",
   "metadata": {},
   "outputs": [],
   "source": []
  }
 ],
 "metadata": {
  "kernelspec": {
   "display_name": "Python 3 (ipykernel)",
   "language": "python",
   "name": "python3"
  },
  "language_info": {
   "codemirror_mode": {
    "name": "ipython",
    "version": 3
   },
   "file_extension": ".py",
   "mimetype": "text/x-python",
   "name": "python",
   "nbconvert_exporter": "python",
   "pygments_lexer": "ipython3",
   "version": "3.12.3"
  }
 },
 "nbformat": 4,
 "nbformat_minor": 5
}
