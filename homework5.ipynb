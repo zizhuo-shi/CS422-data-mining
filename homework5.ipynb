{
 "cells": [
  {
   "cell_type": "markdown",
   "id": "c11ed966-2aa3-4e45-84de-3ca254f76b3c",
   "metadata": {},
   "source": [
    "Problem 1.1"
   ]
  },
  {
   "cell_type": "code",
   "execution_count": 34,
   "id": "e7007b7a-f64c-43e2-8259-33bbc91cc831",
   "metadata": {},
   "outputs": [],
   "source": [
    "import pandas as pd\n",
    "import numpy as np\n",
    "from sklearn.metrics.pairwise import cosine_similarity"
   ]
  },
  {
   "cell_type": "code",
   "execution_count": 35,
   "id": "b34b7de3-e099-4c17-9d5a-31d9c1135d88",
   "metadata": {},
   "outputs": [
    {
     "name": "stdout",
     "output_type": "stream",
     "text": [
      "The first few lines of the rating data:\n",
      "   user_id  item_id  rating  timestamp\n",
      "0      196      242       3  881250949\n",
      "1      186      302       3  891717742\n",
      "2       22      377       1  878887116\n",
      "3      244       51       2  880606923\n",
      "4      166      346       1  886397596\n"
     ]
    }
   ],
   "source": [
    "# Specify the path of the scoring data file\n",
    "ratings_file_path = r'C:\\Users\\LENOVO\\CS422 data mining\\ml-100k\\ml-100k\\u.data'\n",
    "\n",
    "# Define column names\n",
    "ratings_columns = ['user_id', 'item_id', 'rating', 'timestamp']\n",
    "\n",
    "# download data\n",
    "ratings_df = pd.read_csv(ratings_file_path, sep='\\t', names=ratings_columns)\n",
    "\n",
    "# View the first few lines of the rating data\n",
    "print(\"The first few lines of the rating data:\")\n",
    "print(ratings_df.head())"
   ]
  },
  {
   "cell_type": "code",
   "execution_count": 36,
   "id": "dda7a988-325a-4559-a5d1-c60124a04103",
   "metadata": {},
   "outputs": [
    {
     "name": "stdout",
     "output_type": "stream",
     "text": [
      "The first few lines of utility data:\n",
      "item_id  1     2     3     4     5     6     7     8     9     10    ...  \\\n",
      "user_id                                                              ...   \n",
      "1         5.0   3.0   4.0   3.0   3.0   5.0   4.0   1.0   5.0   3.0  ...   \n",
      "2         4.0   NaN   NaN   NaN   NaN   NaN   NaN   NaN   NaN   2.0  ...   \n",
      "3         NaN   NaN   NaN   NaN   NaN   NaN   NaN   NaN   NaN   NaN  ...   \n",
      "4         NaN   NaN   NaN   NaN   NaN   NaN   NaN   NaN   NaN   NaN  ...   \n",
      "5         4.0   3.0   NaN   NaN   NaN   NaN   NaN   NaN   NaN   NaN  ...   \n",
      "\n",
      "item_id  1673  1674  1675  1676  1677  1678  1679  1680  1681  1682  \n",
      "user_id                                                              \n",
      "1         NaN   NaN   NaN   NaN   NaN   NaN   NaN   NaN   NaN   NaN  \n",
      "2         NaN   NaN   NaN   NaN   NaN   NaN   NaN   NaN   NaN   NaN  \n",
      "3         NaN   NaN   NaN   NaN   NaN   NaN   NaN   NaN   NaN   NaN  \n",
      "4         NaN   NaN   NaN   NaN   NaN   NaN   NaN   NaN   NaN   NaN  \n",
      "5         NaN   NaN   NaN   NaN   NaN   NaN   NaN   NaN   NaN   NaN  \n",
      "\n",
      "[5 rows x 1682 columns]\n"
     ]
    }
   ],
   "source": [
    "# Convert the rating data into a utility matrix\n",
    "utility_matrix = ratings_df.pivot(index='user_id', columns='item_id', values='rating')\n",
    "\n",
    "# View the first few lines of the utility matrix\n",
    "print(\"The first few lines of utility data:\")\n",
    "print(utility_matrix.head())"
   ]
  },
  {
   "cell_type": "code",
   "execution_count": 37,
   "id": "6d9f5156-2f39-4650-85b1-92116ef9a0ce",
   "metadata": {},
   "outputs": [
    {
     "name": "stdout",
     "output_type": "stream",
     "text": [
      "The first few lines of the centralized utility matrix:\n",
      "item_id      1         2         3         4         5         6         7     \\\n",
      "user_id                                                                         \n",
      "1        1.389706 -0.610294  0.389706 -0.610294 -0.610294  1.389706  0.389706   \n",
      "2        0.290323       NaN       NaN       NaN       NaN       NaN       NaN   \n",
      "3             NaN       NaN       NaN       NaN       NaN       NaN       NaN   \n",
      "4             NaN       NaN       NaN       NaN       NaN       NaN       NaN   \n",
      "5        1.125714  0.125714       NaN       NaN       NaN       NaN       NaN   \n",
      "\n",
      "item_id      8         9         10    ...  1673  1674  1675  1676  1677  \\\n",
      "user_id                                ...                                 \n",
      "1       -2.610294  1.389706 -0.610294  ...   NaN   NaN   NaN   NaN   NaN   \n",
      "2             NaN       NaN -1.709677  ...   NaN   NaN   NaN   NaN   NaN   \n",
      "3             NaN       NaN       NaN  ...   NaN   NaN   NaN   NaN   NaN   \n",
      "4             NaN       NaN       NaN  ...   NaN   NaN   NaN   NaN   NaN   \n",
      "5             NaN       NaN       NaN  ...   NaN   NaN   NaN   NaN   NaN   \n",
      "\n",
      "item_id  1678  1679  1680  1681  1682  \n",
      "user_id                                \n",
      "1         NaN   NaN   NaN   NaN   NaN  \n",
      "2         NaN   NaN   NaN   NaN   NaN  \n",
      "3         NaN   NaN   NaN   NaN   NaN  \n",
      "4         NaN   NaN   NaN   NaN   NaN  \n",
      "5         NaN   NaN   NaN   NaN   NaN  \n",
      "\n",
      "[5 rows x 1682 columns]\n"
     ]
    }
   ],
   "source": [
    "# Calculate the average rating for each user\n",
    "user_means = utility_matrix.mean(axis=1)\n",
    "\n",
    "# Centralized user rating data\n",
    "centered_utility_matrix = utility_matrix.sub(user_means, axis=0)\n",
    "\n",
    "# View the first few lines of the centralized utility matrix\n",
    "print(\"The first few lines of the centralized utility matrix:\")\n",
    "print(centered_utility_matrix.head())"
   ]
  },
  {
   "cell_type": "code",
   "execution_count": 38,
   "id": "69582fa2-4f0b-47b5-a569-4816759ad4e1",
   "metadata": {},
   "outputs": [
    {
     "name": "stdout",
     "output_type": "stream",
     "text": [
      "The first few lines of the cosine similarity matrix:\n",
      "user_id       1         2         3         4         5         6         7    \\\n",
      "user_id                                                                         \n",
      "1        1.000000  0.043411  0.011051  0.059303  0.134514  0.103373  0.110556   \n",
      "2        0.043411  1.000000  0.013658 -0.017016  0.035770  0.094503  0.089408   \n",
      "3        0.011051  0.013658  1.000000 -0.059638  0.016037 -0.017158  0.016141   \n",
      "4        0.059303 -0.017016 -0.059638  1.000000  0.007373 -0.053929 -0.025604   \n",
      "5        0.134514  0.035770  0.016037  0.007373  1.000000  0.038484  0.067874   \n",
      "\n",
      "user_id       8         9         10   ...       934       935       936  \\\n",
      "user_id                                ...                                 \n",
      "1        0.180891  0.012253 -0.000621  ...  0.025835 -0.047952  0.087224   \n",
      "2        0.055640  0.027294  0.097846  ...  0.012853 -0.028798  0.056659   \n",
      "3        0.041177 -0.010093  0.023856  ...  0.001615  0.000658 -0.006888   \n",
      "4        0.136046  0.016082 -0.013588  ...  0.011895  0.002174 -0.028000   \n",
      "5        0.140106  0.010195  0.014335  ...  0.070014 -0.070821  0.024278   \n",
      "\n",
      "user_id       937       938       939       940       941       942       943  \n",
      "user_id                                                                        \n",
      "1        0.007718  0.074378  0.078714  0.067433  0.028790 -0.031270  0.032123  \n",
      "2        0.197835  0.090009  0.032505  0.015053 -0.017344  0.012068  0.039173  \n",
      "3        0.036157 -0.018513 -0.006240 -0.023907  0.034414 -0.009187  0.001489  \n",
      "4       -0.025021  0.022882 -0.005960  0.279818  0.258594  0.064504 -0.019222  \n",
      "5        0.038672  0.093567  0.051782  0.029540  0.036234  0.043318  0.099324  \n",
      "\n",
      "[5 rows x 943 columns]\n"
     ]
    }
   ],
   "source": [
    "# Calculate cosine similarity between users\n",
    "cosine_sim_matrix = cosine_similarity(centered_utility_matrix.fillna(0))\n",
    "cosine_sim_df = pd.DataFrame(cosine_sim_matrix, index=utility_matrix.index, columns=utility_matrix.index)\n",
    "\n",
    "# View the first few lines of the cosine similarity matrix\n",
    "print(\"The first few lines of the cosine similarity matrix:\")\n",
    "print(cosine_sim_df.head())"
   ]
  },
  {
   "cell_type": "code",
   "execution_count": 39,
   "id": "73e826e7-df70-4429-805f-b2f317842a2a",
   "metadata": {},
   "outputs": [
    {
     "name": "stdout",
     "output_type": "stream",
     "text": [
      "The ten most similar users to users1：\n",
      "Index([773, 868, 592, 880, 429, 276, 916, 222, 457, 8], dtype='int64', name='user_id')\n"
     ]
    }
   ],
   "source": [
    "# Find out the ten users who are most similar to the user\n",
    "user_id = 1\n",
    "similar_users = cosine_sim_df[user_id].sort_values(ascending=False).index[1:11]\n",
    "\n",
    "# View the ten most similar users to the user\n",
    "print(f\"The ten most similar users to users{user_id}：\")\n",
    "print(similar_users)"
   ]
  },
  {
   "cell_type": "code",
   "execution_count": 40,
   "id": "bed0e709-1720-41e5-8b64-be2f2ef43c1f",
   "metadata": {},
   "outputs": [
    {
     "name": "stdout",
     "output_type": "stream",
     "text": [
      "User 1's expected rating for the project 508 ：4.2\n"
     ]
    }
   ],
   "source": [
    "# Find similar users' ratings for Project 508\n",
    "item_id = 508\n",
    "similar_users_ratings = utility_matrix.loc[similar_users, item_id]\n",
    "\n",
    "# Calculate the average ratings of similar users for item 508\n",
    "average_rating = similar_users_ratings.mean()\n",
    "\n",
    "# print result\n",
    "print(f\"User 1's expected rating for the project {item_id} ：{average_rating}\")"
   ]
  },
  {
   "cell_type": "markdown",
   "id": "59a008d9-0094-44ee-96bb-57670ffb2fb1",
   "metadata": {},
   "source": [
    "\n",
    "problem 1.2"
   ]
  },
  {
   "cell_type": "code",
   "execution_count": 41,
   "id": "5e138809-5215-4c8d-8abd-9201b8bfa39b",
   "metadata": {},
   "outputs": [],
   "source": [
    "import pandas as pd\n",
    "import numpy as np\n",
    "from sklearn.metrics.pairwise import cosine_similarity, euclidean_distances"
   ]
  },
  {
   "cell_type": "code",
   "execution_count": 42,
   "id": "877ca038-8cd2-443c-982d-fd527991d467",
   "metadata": {},
   "outputs": [
    {
     "name": "stdout",
     "output_type": "stream",
     "text": [
      "The first few lines of the rating data:\n",
      "   user_id  item_id  rating  timestamp\n",
      "0      196      242       3  881250949\n",
      "1      186      302       3  891717742\n",
      "2       22      377       1  878887116\n",
      "3      244       51       2  880606923\n",
      "4      166      346       1  886397596\n"
     ]
    }
   ],
   "source": [
    "# Specify the path of the scoring data file\n",
    "ratings_file_path1 = r'C:\\Users\\LENOVO\\CS422 data mining\\ml-100k\\ml-100k\\u.data'\n",
    "\n",
    "# Define column names\n",
    "ratings_columns1 = ['user_id', 'item_id', 'rating', 'timestamp']\n",
    "\n",
    "# download data\n",
    "ratings_df1 = pd.read_csv(ratings_file_path1, sep='\\t', names=ratings_columns)\n",
    "\n",
    "# View the first few lines of the rating data\n",
    "print(\"The first few lines of the rating data:\")\n",
    "print(ratings_df.head())"
   ]
  },
  {
   "cell_type": "code",
   "execution_count": 43,
   "id": "59970721-0c4d-4204-8500-31de01ede35a",
   "metadata": {},
   "outputs": [
    {
     "name": "stdout",
     "output_type": "stream",
     "text": [
      "The first few lines of utility data:\n",
      "item_id  1     2     3     4     5     6     7     8     9     10    ...  \\\n",
      "user_id                                                              ...   \n",
      "1         5.0   3.0   4.0   3.0   3.0   5.0   4.0   1.0   5.0   3.0  ...   \n",
      "2         4.0   NaN   NaN   NaN   NaN   NaN   NaN   NaN   NaN   2.0  ...   \n",
      "3         NaN   NaN   NaN   NaN   NaN   NaN   NaN   NaN   NaN   NaN  ...   \n",
      "4         NaN   NaN   NaN   NaN   NaN   NaN   NaN   NaN   NaN   NaN  ...   \n",
      "5         4.0   3.0   NaN   NaN   NaN   NaN   NaN   NaN   NaN   NaN  ...   \n",
      "\n",
      "item_id  1673  1674  1675  1676  1677  1678  1679  1680  1681  1682  \n",
      "user_id                                                              \n",
      "1         NaN   NaN   NaN   NaN   NaN   NaN   NaN   NaN   NaN   NaN  \n",
      "2         NaN   NaN   NaN   NaN   NaN   NaN   NaN   NaN   NaN   NaN  \n",
      "3         NaN   NaN   NaN   NaN   NaN   NaN   NaN   NaN   NaN   NaN  \n",
      "4         NaN   NaN   NaN   NaN   NaN   NaN   NaN   NaN   NaN   NaN  \n",
      "5         NaN   NaN   NaN   NaN   NaN   NaN   NaN   NaN   NaN   NaN  \n",
      "\n",
      "[5 rows x 1682 columns]\n"
     ]
    }
   ],
   "source": [
    "# Convert the rating data into a utility matrix\n",
    "utility_matrix1 = ratings_df1.pivot(index='user_id', columns='item_id', values='rating')\n",
    "\n",
    "# View the first few lines of the utility matrix\n",
    "print(\"The first few lines of utility data:\")\n",
    "print(utility_matrix1.head())"
   ]
  },
  {
   "cell_type": "code",
   "execution_count": 44,
   "id": "74c1afa4-c764-4c34-9bca-38d4988fdfd0",
   "metadata": {},
   "outputs": [
    {
     "name": "stdout",
     "output_type": "stream",
     "text": [
      "The first few lines of the centralized utility matrix1:\n",
      "item_id      1         2         3         4         5         6         7     \\\n",
      "user_id                                                                         \n",
      "1        1.389706 -0.610294  0.389706 -0.610294 -0.610294  1.389706  0.389706   \n",
      "2        0.290323       NaN       NaN       NaN       NaN       NaN       NaN   \n",
      "3             NaN       NaN       NaN       NaN       NaN       NaN       NaN   \n",
      "4             NaN       NaN       NaN       NaN       NaN       NaN       NaN   \n",
      "5        1.125714  0.125714       NaN       NaN       NaN       NaN       NaN   \n",
      "\n",
      "item_id      8         9         10    ...  1673  1674  1675  1676  1677  \\\n",
      "user_id                                ...                                 \n",
      "1       -2.610294  1.389706 -0.610294  ...   NaN   NaN   NaN   NaN   NaN   \n",
      "2             NaN       NaN -1.709677  ...   NaN   NaN   NaN   NaN   NaN   \n",
      "3             NaN       NaN       NaN  ...   NaN   NaN   NaN   NaN   NaN   \n",
      "4             NaN       NaN       NaN  ...   NaN   NaN   NaN   NaN   NaN   \n",
      "5             NaN       NaN       NaN  ...   NaN   NaN   NaN   NaN   NaN   \n",
      "\n",
      "item_id  1678  1679  1680  1681  1682  \n",
      "user_id                                \n",
      "1         NaN   NaN   NaN   NaN   NaN  \n",
      "2         NaN   NaN   NaN   NaN   NaN  \n",
      "3         NaN   NaN   NaN   NaN   NaN  \n",
      "4         NaN   NaN   NaN   NaN   NaN  \n",
      "5         NaN   NaN   NaN   NaN   NaN  \n",
      "\n",
      "[5 rows x 1682 columns]\n"
     ]
    }
   ],
   "source": [
    "# Calculate the average rating for each user\n",
    "user_means1 = utility_matrix1.mean(axis=1)\n",
    "\n",
    "# Centralized user rating data\n",
    "centered_utility_matrix1 = utility_matrix1.sub(user_means, axis=0)\n",
    "\n",
    "# View the first few lines of the centralized utility matrix1\n",
    "print(\"The first few lines of the centralized utility matrix1:\")\n",
    "print(centered_utility_matrix1.head())"
   ]
  },
  {
   "cell_type": "code",
   "execution_count": 45,
   "id": "69041606-8b16-4654-ba84-43f5ec1480df",
   "metadata": {},
   "outputs": [],
   "source": [
    "# Get the centralized rating vector of movie 95 on all users (943 dimensions)\n",
    "movie_95_profile = centered_utility_matrix[95].fillna(0).values.reshape(1, -1)  # 形状为(1, 943)\n",
    "\n",
    "# Create a 943-dimensional rating vector for user 200 and user 15.\n",
    "def create_user_vector(user_id, movie_id):\n",
    "    #The centered user vector (originally 1682-dimensional).\n",
    "    user_vector = centered_utility_matrix.loc[user_id].fillna(0).values\n",
    "    # Create a zero vector (943-dimensional) corresponding to all users.\n",
    "    user_vec_943 = np.zeros(centered_utility_matrix.shape[0])\n",
    "    # Set only the position corresponding to the current movie to the user's rating value; if the user has not rated the movie, it is 0.\n",
    "    user_vec_943[movie_id - 1] = centered_utility_matrix.loc[user_id, movie_id] if not np.isnan(centered_utility_matrix.loc[user_id, movie_id]) else 0\n",
    "    return user_vec_943.reshape(1, -1)\n",
    "\n",
    "# Create 943-dimensional vectors for user 200 and user 15 (with values only at the position of movie 95).\n",
    "user_200_vector = create_user_vector(200, 95)\n",
    "user_15_vector = create_user_vector(15, 95)"
   ]
  },
  {
   "cell_type": "code",
   "execution_count": 46,
   "id": "0149bcec-d341-4c5e-bd3b-d54e6f21128e",
   "metadata": {},
   "outputs": [
    {
     "name": "stdout",
     "output_type": "stream",
     "text": [
      "Cosine similarity between user 200 and movie 95:-0.03308051750919125\n",
      "Cosine similarity between user 15 and movie 95:0.0\n"
     ]
    }
   ],
   "source": [
    "# Euclidean distance\n",
    "cosine_sim_200 = cosine_similarity(user_200_vector, movie_95_profile)[0][0]\n",
    "cosine_sim_15 = cosine_similarity(user_15_vector, movie_95_profile)[0][0]\n",
    "\n",
    "print(f\"Cosine similarity between user 200 and movie 95:{cosine_sim_200}\")\n",
    "print(f\"Cosine similarity between user 15 and movie 95:{cosine_sim_15}\")"
   ]
  },
  {
   "cell_type": "code",
   "execution_count": 47,
   "id": "42054de7-9ae3-49e7-ab26-8dacebf03a74",
   "metadata": {},
   "outputs": [
    {
     "name": "stdout",
     "output_type": "stream",
     "text": [
      "Euclidean distance between user 200 and movie 95:12.682585643248688\n",
      "Euclidean distance between user 15 and movie 95:12.613653548026404\n"
     ]
    }
   ],
   "source": [
    "# Euclidean distance\n",
    "euclidean_dist_200 = euclidean_distances(user_200_vector, movie_95_profile)[0][0]\n",
    "euclidean_dist_15 = euclidean_distances(user_15_vector, movie_95_profile)[0][0]\n",
    "\n",
    "print(f\"Euclidean distance between user 200 and movie 95:{euclidean_dist_200}\")\n",
    "print(f\"Euclidean distance between user 15 and movie 95:{euclidean_dist_15}\")"
   ]
  },
  {
   "cell_type": "code",
   "execution_count": 48,
   "id": "9a22eef8-3e0e-46f2-b4a3-fbf4d0e19589",
   "metadata": {},
   "outputs": [
    {
     "name": "stdout",
     "output_type": "stream",
     "text": [
      "Based on cosine similarity, the recommendation system will recommend movie 95 to user 15\n"
     ]
    }
   ],
   "source": [
    "#Determine the recommendation target.\n",
    "if cosine_sim_200 > cosine_sim_15:\n",
    "    recommended_user = 200\n",
    "else:\n",
    "    recommended_user = 15\n",
    "\n",
    "print(f\"Based on cosine similarity, the recommendation system will recommend movie 95 to user {recommended_user}\")"
   ]
  },
  {
   "cell_type": "code",
   "execution_count": null,
   "id": "7ba40d1c-df67-47d8-800c-f3f2906963c5",
   "metadata": {},
   "outputs": [],
   "source": []
  }
 ],
 "metadata": {
  "kernelspec": {
   "display_name": "Python 3 (ipykernel)",
   "language": "python",
   "name": "python3"
  },
  "language_info": {
   "codemirror_mode": {
    "name": "ipython",
    "version": 3
   },
   "file_extension": ".py",
   "mimetype": "text/x-python",
   "name": "python",
   "nbconvert_exporter": "python",
   "pygments_lexer": "ipython3",
   "version": "3.12.3"
  }
 },
 "nbformat": 4,
 "nbformat_minor": 5
}
